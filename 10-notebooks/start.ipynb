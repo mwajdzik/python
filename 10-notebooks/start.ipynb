{
 "cells": [
  {
   "cell_type": "markdown",
   "source": [
    "## Learning Jupiter Notebook\n",
    "\n",
    "* Learning\n",
    "* Jupiter\n",
    "* Notebook\n",
    "* [Pandas](http://pandas.pydata.org) is cool"
   ],
   "metadata": {
    "collapsed": false
   }
  },
  {
   "cell_type": "code",
   "execution_count": 21,
   "outputs": [
    {
     "data": {
      "text/plain": "23"
     },
     "metadata": {},
     "output_type": "execute_result",
     "execution_count": 21
    }
   ],
   "source": [
    "import numpy as np\n",
    "\n",
    "np?\n",
    "np.abs(-23)"
   ],
   "metadata": {
    "collapsed": false,
    "pycharm": {
     "name": "#%%\n",
     "is_executing": false
    }
   }
  },
  {
   "cell_type": "code",
   "execution_count": 22,
   "outputs": [],
   "source": [
    "np.sin??\n"
   ],
   "metadata": {
    "collapsed": false,
    "pycharm": {
     "name": "#%%\n",
     "is_executing": false
    }
   }
  },
  {
   "cell_type": "code",
   "execution_count": 23,
   "outputs": [
    {
     "data": {
      "text/plain": "'/Users/sg0218817/Private/IT/python/10-notebooks'"
     },
     "metadata": {},
     "output_type": "execute_result",
     "execution_count": 23
    }
   ],
   "source": [
    "%pwd\n"
   ],
   "metadata": {
    "collapsed": false,
    "pycharm": {
     "name": "#%%\n",
     "is_executing": false
    }
   }
  },
  {
   "cell_type": "code",
   "execution_count": 24,
   "outputs": [],
   "source": [
    "%magic\n"
   ],
   "metadata": {
    "collapsed": false,
    "pycharm": {
     "name": "#%%\n",
     "is_executing": false
    }
   }
  },
  {
   "cell_type": "code",
   "execution_count": 25,
   "outputs": [
    {
     "name": "stdout",
     "text": [
      "\u001b[34mBluetooth\u001b[m\u001b[m                 fsck_apfs_error.log       system.log.6.gz\r\nCDIS.custom               fsck_hfs.log              system.log.7.gz\r\n\u001b[34mCoreDuet\u001b[m\u001b[m                  install.log               \u001b[34muucp\u001b[m\u001b[m\r\n\u001b[34mDiagnosticMessages\u001b[m\u001b[m        \u001b[31mjamf.log\u001b[m\u001b[m                  weekly.out\r\nMcAfeeSecurity.log        \u001b[34mkarabiner\u001b[m\u001b[m                 wifi.log\r\n\u001b[30m\u001b[43mTrendMicro\u001b[m\u001b[m                monthly.out               wifi.log.0.bz2\r\n\u001b[34mapache2\u001b[m\u001b[m                   \u001b[34mpowermanagement\u001b[m\u001b[m           wifi.log.1.bz2\r\n\u001b[34masl\u001b[m\u001b[m                       \u001b[34mppp\u001b[m\u001b[m                       wifi.log.10.bz2\r\n\u001b[34mcom.apple.xpc.launchd\u001b[m\u001b[m     shutdown_monitor.log      wifi.log.2.bz2\r\ncorecaptured.log          system.log                wifi.log.3.bz2\r\n\u001b[34mcups\u001b[m\u001b[m                      system.log.0.gz           wifi.log.4.bz2\r\ndaily.out                 system.log.1.gz           wifi.log.5.bz2\r\n\u001b[34mdisplaypolicy\u001b[m\u001b[m             system.log.2.gz           wifi.log.6.bz2\r\ndisplaypolicyd.stdout.log system.log.3.gz           wifi.log.7.bz2\r\n\u001b[34memond\u001b[m\u001b[m                     system.log.4.gz           wifi.log.8.bz2\r\nfsck_apfs.log             system.log.5.gz           wifi.log.9.bz2\r\n"
     ],
     "output_type": "stream"
    }
   ],
   "source": [
    "!ls /var/log\n"
   ],
   "metadata": {
    "collapsed": false,
    "pycharm": {
     "name": "#%%\n",
     "is_executing": false
    }
   }
  },
  {
   "cell_type": "code",
   "execution_count": 26,
   "outputs": [
    {
     "name": "stdout",
     "text": [
      "48\n"
     ],
     "output_type": "stream"
    }
   ],
   "source": [
    "files = !ls /var/log\n",
    "print(len(files))"
   ],
   "metadata": {
    "collapsed": false,
    "pycharm": {
     "name": "#%%\n",
     "is_executing": false
    }
   }
  },
  {
   "cell_type": "code",
   "execution_count": null,
   "outputs": [],
   "source": [
    "\n"
   ],
   "metadata": {
    "collapsed": false,
    "pycharm": {
     "name": "#%%\n"
    }
   }
  }
 ],
 "metadata": {
  "language_info": {
   "codemirror_mode": {
    "name": "ipython",
    "version": 2
   },
   "file_extension": ".py",
   "mimetype": "text/x-python",
   "name": "python",
   "nbconvert_exporter": "python",
   "pygments_lexer": "ipython2",
   "version": "2.7.6"
  },
  "kernelspec": {
   "name": "python3",
   "language": "python",
   "display_name": "Python 3"
  },
  "pycharm": {
   "stem_cell": {
    "cell_type": "raw",
    "source": [],
    "metadata": {
     "collapsed": false
    }
   }
  }
 },
 "nbformat": 4,
 "nbformat_minor": 0
}
