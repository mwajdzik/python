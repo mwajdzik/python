{
 "cells": [
  {
   "cell_type": "markdown",
   "source": [
    "## Learning Jupiter Notebook\n",
    "\n",
    "* Learning\n",
    "* Jupiter\n",
    "* Notebook\n",
    "* [Pandas](http://pandas.pydata.org) is cool\n"
   ],
   "metadata": {
    "collapsed": false
   }
  },
  {
   "cell_type": "code",
   "execution_count": 32,
   "outputs": [],
   "source": [
    "np.sin?\n"
   ],
   "metadata": {
    "collapsed": false,
    "pycharm": {
     "name": "#%%\n",
     "is_executing": false
    }
   }
  },
  {
   "cell_type": "code",
   "execution_count": 28,
   "outputs": [],
   "source": [
    "np.sin??\n"
   ],
   "metadata": {
    "collapsed": false,
    "pycharm": {
     "name": "#%%\n",
     "is_executing": false
    }
   }
  },
  {
   "cell_type": "code",
   "execution_count": 21,
   "outputs": [
    {
     "data": {
      "text/plain": "'/Users/sg0218817/Private/IT/python/10-notebooks'"
     },
     "metadata": {},
     "output_type": "execute_result",
     "execution_count": 21
    }
   ],
   "source": [
    "%pwd\n"
   ],
   "metadata": {
    "collapsed": false,
    "pycharm": {
     "name": "#%%\n",
     "is_executing": false
    }
   }
  },
  {
   "cell_type": "code",
   "execution_count": 29,
   "outputs": [],
   "source": [
    "%magic\n"
   ],
   "metadata": {
    "collapsed": false,
    "pycharm": {
     "name": "#%%\n",
     "is_executing": false
    }
   }
  },
  {
   "cell_type": "code",
   "execution_count": 30,
   "outputs": [
    {
     "name": "stdout",
     "text": [
      "\u001b[34mBluetooth\u001b[m\u001b[m                         system.log\r\nCDIS.custom                       system.log.0.gz\r\n\u001b[34mCoreDuet\u001b[m\u001b[m                          system.log.1.gz\r\n\u001b[34mDiagnosticMessages\u001b[m\u001b[m                system.log.2.gz\r\n\u001b[34mapache2\u001b[m\u001b[m                           system.log.3.gz\r\n\u001b[34masl\u001b[m\u001b[m                               system.log.4.gz\r\n\u001b[34mcom.apple.xpc.launchd\u001b[m\u001b[m             \u001b[34muucp\u001b[m\u001b[m\r\ncorecaptured.log                  weekly.out\r\n\u001b[34mcups\u001b[m\u001b[m                              wifi-05-20-2019__14:26:11.893.log\r\ndaily.out                         wifi.log\r\n\u001b[34mdisplaypolicy\u001b[m\u001b[m                     wifi.log.0.bz2\r\ndisplaypolicyd.stdout.log         wifi.log.1.bz2\r\n\u001b[34memond\u001b[m\u001b[m                             wifi.log.10.bz2\r\nfsck_apfs.log                     wifi.log.2.bz2\r\nfsck_hfs.log                      wifi.log.3.bz2\r\ninstall.log                       wifi.log.4.bz2\r\n\u001b[31mjamf.log\u001b[m\u001b[m                          wifi.log.5.bz2\r\nmonthly.out                       wifi.log.6.bz2\r\n\u001b[34mpowermanagement\u001b[m\u001b[m                   wifi.log.7.bz2\r\n\u001b[34mppp\u001b[m\u001b[m                               wifi.log.8.bz2\r\nshutdown_monitor.log              wifi.log.9.bz2\r\n"
     ],
     "output_type": "stream"
    }
   ],
   "source": [
    "!ls /var/log\n"
   ],
   "metadata": {
    "collapsed": false,
    "pycharm": {
     "name": "#%%\n",
     "is_executing": false
    }
   }
  },
  {
   "cell_type": "code",
   "execution_count": 31,
   "outputs": [
    {
     "name": "stdout",
     "text": [
      "42\n"
     ],
     "output_type": "stream"
    }
   ],
   "source": [
    "files = !ls /var/log\n",
    "print(len(files))\n"
   ],
   "metadata": {
    "collapsed": false,
    "pycharm": {
     "name": "#%%\n",
     "is_executing": false
    }
   }
  }
 ],
 "metadata": {
  "language_info": {
   "codemirror_mode": {
    "name": "ipython",
    "version": 2
   },
   "file_extension": ".py",
   "mimetype": "text/x-python",
   "name": "python",
   "nbconvert_exporter": "python",
   "pygments_lexer": "ipython2",
   "version": "2.7.6"
  },
  "kernelspec": {
   "name": "python3",
   "language": "python",
   "display_name": "Python 3"
  },
  "pycharm": {
   "stem_cell": {
    "cell_type": "raw",
    "source": [],
    "metadata": {
     "collapsed": false
    }
   }
  }
 },
 "nbformat": 4,
 "nbformat_minor": 0
}