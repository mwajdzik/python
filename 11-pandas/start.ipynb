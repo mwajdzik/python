{
 "cells": [
  {
   "cell_type": "code",
   "execution_count": 59,
   "metadata": {
    "collapsed": true,
    "pycharm": {
     "is_executing": false
    }
   },
   "outputs": [
    {
     "name": "stdout",
     "text": [
      "Type:  <class 'pandas.core.frame.DataFrame'>\nShape: (155, 12)\n"
     ],
     "output_type": "stream"
    }
   ],
   "source": [
    "\n",
    "import pandas as pd\n",
    "\n",
    "data = pd.read_csv('2017.csv', skiprows=0)\n",
    "\n",
    "print('Type: ', type(data))\n",
    "print('Shape:', data.shape)\n"
   ]
  },
  {
   "cell_type": "code",
   "execution_count": 60,
   "outputs": [
    {
     "data": {
      "text/plain": "       Country  Happiness.Rank  Happiness.Score  Whisker.high  Whisker.low  \\\n0       Norway               1            7.537      7.594445     7.479556   \n1      Denmark               2            7.522      7.581728     7.462272   \n2      Iceland               3            7.504      7.622030     7.385970   \n3  Switzerland               4            7.494      7.561772     7.426227   \n4      Finland               5            7.469      7.527542     7.410458   \n\n   Economy..GDP.per.Capita.    Family  Health..Life.Expectancy.   Freedom  \\\n0                  1.616463  1.533524                  0.796667  0.635423   \n1                  1.482383  1.551122                  0.792566  0.626007   \n2                  1.480633  1.610574                  0.833552  0.627163   \n3                  1.564980  1.516912                  0.858131  0.620071   \n4                  1.443572  1.540247                  0.809158  0.617951   \n\n   Generosity  Trust..Government.Corruption.  Dystopia.Residual  \n0    0.362012                       0.315964           2.277027  \n1    0.355280                       0.400770           2.313707  \n2    0.475540                       0.153527           2.322715  \n3    0.290549                       0.367007           2.276716  \n4    0.245483                       0.382612           2.430182  ",
      "text/html": "<div>\n<style scoped>\n    .dataframe tbody tr th:only-of-type {\n        vertical-align: middle;\n    }\n\n    .dataframe tbody tr th {\n        vertical-align: top;\n    }\n\n    .dataframe thead th {\n        text-align: right;\n    }\n</style>\n<table border=\"1\" class=\"dataframe\">\n  <thead>\n    <tr style=\"text-align: right;\">\n      <th></th>\n      <th>Country</th>\n      <th>Happiness.Rank</th>\n      <th>Happiness.Score</th>\n      <th>Whisker.high</th>\n      <th>Whisker.low</th>\n      <th>Economy..GDP.per.Capita.</th>\n      <th>Family</th>\n      <th>Health..Life.Expectancy.</th>\n      <th>Freedom</th>\n      <th>Generosity</th>\n      <th>Trust..Government.Corruption.</th>\n      <th>Dystopia.Residual</th>\n    </tr>\n  </thead>\n  <tbody>\n    <tr>\n      <th>0</th>\n      <td>Norway</td>\n      <td>1</td>\n      <td>7.537</td>\n      <td>7.594445</td>\n      <td>7.479556</td>\n      <td>1.616463</td>\n      <td>1.533524</td>\n      <td>0.796667</td>\n      <td>0.635423</td>\n      <td>0.362012</td>\n      <td>0.315964</td>\n      <td>2.277027</td>\n    </tr>\n    <tr>\n      <th>1</th>\n      <td>Denmark</td>\n      <td>2</td>\n      <td>7.522</td>\n      <td>7.581728</td>\n      <td>7.462272</td>\n      <td>1.482383</td>\n      <td>1.551122</td>\n      <td>0.792566</td>\n      <td>0.626007</td>\n      <td>0.355280</td>\n      <td>0.400770</td>\n      <td>2.313707</td>\n    </tr>\n    <tr>\n      <th>2</th>\n      <td>Iceland</td>\n      <td>3</td>\n      <td>7.504</td>\n      <td>7.622030</td>\n      <td>7.385970</td>\n      <td>1.480633</td>\n      <td>1.610574</td>\n      <td>0.833552</td>\n      <td>0.627163</td>\n      <td>0.475540</td>\n      <td>0.153527</td>\n      <td>2.322715</td>\n    </tr>\n    <tr>\n      <th>3</th>\n      <td>Switzerland</td>\n      <td>4</td>\n      <td>7.494</td>\n      <td>7.561772</td>\n      <td>7.426227</td>\n      <td>1.564980</td>\n      <td>1.516912</td>\n      <td>0.858131</td>\n      <td>0.620071</td>\n      <td>0.290549</td>\n      <td>0.367007</td>\n      <td>2.276716</td>\n    </tr>\n    <tr>\n      <th>4</th>\n      <td>Finland</td>\n      <td>5</td>\n      <td>7.469</td>\n      <td>7.527542</td>\n      <td>7.410458</td>\n      <td>1.443572</td>\n      <td>1.540247</td>\n      <td>0.809158</td>\n      <td>0.617951</td>\n      <td>0.245483</td>\n      <td>0.382612</td>\n      <td>2.430182</td>\n    </tr>\n  </tbody>\n</table>\n</div>"
     },
     "metadata": {},
     "output_type": "execute_result",
     "execution_count": 60
    }
   ],
   "source": [
    "data.head()\n"
   ],
   "metadata": {
    "collapsed": false,
    "pycharm": {
     "name": "#%%\n",
     "is_executing": false
    }
   }
  },
  {
   "cell_type": "code",
   "execution_count": 67,
   "outputs": [
    {
     "data": {
      "text/plain": "                      Country  Happiness.Rank  Happiness.Score  Whisker.high  \\\n150                    Rwanda             151            3.471      3.543030   \n151                     Syria             152            3.462      3.663669   \n152                  Tanzania             153            3.349      3.461430   \n153                   Burundi             154            2.905      3.074690   \n154  Central African Republic             155            2.693      2.864884   \n\n     Whisker.low  Economy..GDP.per.Capita.    Family  \\\n150     3.398970                  0.368746  0.945707   \n151     3.260331                  0.777153  0.396103   \n152     3.236570                  0.511136  1.041990   \n153     2.735310                  0.091623  0.629794   \n154     2.521116                  0.000000  0.000000   \n\n     Health..Life.Expectancy.   Freedom  Generosity  \\\n150                  0.326425  0.581844    0.252756   \n151                  0.500533  0.081539    0.493664   \n152                  0.364509  0.390018    0.354256   \n153                  0.151611  0.059901    0.204435   \n154                  0.018773  0.270842    0.280876   \n\n     Trust..Government.Corruption.  Dystopia.Residual  \n150                       0.455220           0.540061  \n151                       0.151347           1.061574  \n152                       0.066035           0.621130  \n153                       0.084148           1.683024  \n154                       0.056565           2.066005  ",
      "text/html": "<div>\n<style scoped>\n    .dataframe tbody tr th:only-of-type {\n        vertical-align: middle;\n    }\n\n    .dataframe tbody tr th {\n        vertical-align: top;\n    }\n\n    .dataframe thead th {\n        text-align: right;\n    }\n</style>\n<table border=\"1\" class=\"dataframe\">\n  <thead>\n    <tr style=\"text-align: right;\">\n      <th></th>\n      <th>Country</th>\n      <th>Happiness.Rank</th>\n      <th>Happiness.Score</th>\n      <th>Whisker.high</th>\n      <th>Whisker.low</th>\n      <th>Economy..GDP.per.Capita.</th>\n      <th>Family</th>\n      <th>Health..Life.Expectancy.</th>\n      <th>Freedom</th>\n      <th>Generosity</th>\n      <th>Trust..Government.Corruption.</th>\n      <th>Dystopia.Residual</th>\n    </tr>\n  </thead>\n  <tbody>\n    <tr>\n      <th>150</th>\n      <td>Rwanda</td>\n      <td>151</td>\n      <td>3.471</td>\n      <td>3.543030</td>\n      <td>3.398970</td>\n      <td>0.368746</td>\n      <td>0.945707</td>\n      <td>0.326425</td>\n      <td>0.581844</td>\n      <td>0.252756</td>\n      <td>0.455220</td>\n      <td>0.540061</td>\n    </tr>\n    <tr>\n      <th>151</th>\n      <td>Syria</td>\n      <td>152</td>\n      <td>3.462</td>\n      <td>3.663669</td>\n      <td>3.260331</td>\n      <td>0.777153</td>\n      <td>0.396103</td>\n      <td>0.500533</td>\n      <td>0.081539</td>\n      <td>0.493664</td>\n      <td>0.151347</td>\n      <td>1.061574</td>\n    </tr>\n    <tr>\n      <th>152</th>\n      <td>Tanzania</td>\n      <td>153</td>\n      <td>3.349</td>\n      <td>3.461430</td>\n      <td>3.236570</td>\n      <td>0.511136</td>\n      <td>1.041990</td>\n      <td>0.364509</td>\n      <td>0.390018</td>\n      <td>0.354256</td>\n      <td>0.066035</td>\n      <td>0.621130</td>\n    </tr>\n    <tr>\n      <th>153</th>\n      <td>Burundi</td>\n      <td>154</td>\n      <td>2.905</td>\n      <td>3.074690</td>\n      <td>2.735310</td>\n      <td>0.091623</td>\n      <td>0.629794</td>\n      <td>0.151611</td>\n      <td>0.059901</td>\n      <td>0.204435</td>\n      <td>0.084148</td>\n      <td>1.683024</td>\n    </tr>\n    <tr>\n      <th>154</th>\n      <td>Central African Republic</td>\n      <td>155</td>\n      <td>2.693</td>\n      <td>2.864884</td>\n      <td>2.521116</td>\n      <td>0.000000</td>\n      <td>0.000000</td>\n      <td>0.018773</td>\n      <td>0.270842</td>\n      <td>0.280876</td>\n      <td>0.056565</td>\n      <td>2.066005</td>\n    </tr>\n  </tbody>\n</table>\n</div>"
     },
     "metadata": {},
     "output_type": "execute_result",
     "execution_count": 67
    }
   ],
   "source": [
    "data.tail()\n"
   ],
   "metadata": {
    "collapsed": false,
    "pycharm": {
     "name": "#%%\n",
     "is_executing": false
    }
   }
  },
  {
   "cell_type": "code",
   "execution_count": 66,
   "outputs": [
    {
     "name": "stdout",
     "text": [
      "<class 'pandas.core.frame.DataFrame'>\nRangeIndex: 155 entries, 0 to 154\nData columns (total 12 columns):\nCountry                          155 non-null object\nHappiness.Rank                   155 non-null int64\nHappiness.Score                  155 non-null float64\nWhisker.high                     155 non-null float64\nWhisker.low                      155 non-null float64\nEconomy..GDP.per.Capita.         155 non-null float64\nFamily                           155 non-null float64\nHealth..Life.Expectancy.         155 non-null float64\nFreedom                          155 non-null float64\nGenerosity                       155 non-null float64\nTrust..Government.Corruption.    155 non-null float64\nDystopia.Residual                155 non-null float64\ndtypes: float64(10), int64(1), object(1)\nmemory usage: 14.6+ KB\n"
     ],
     "output_type": "stream"
    }
   ],
   "source": [
    "data.info()\n"
   ],
   "metadata": {
    "collapsed": false,
    "pycharm": {
     "name": "#%%\n",
     "is_executing": false
    }
   }
  },
  {
   "cell_type": "code",
   "execution_count": 62,
   "outputs": [],
   "source": [
    "countries_series = data['Country']\n",
    "countries_with_rank_series = data[['Country', 'Happiness.Rank']]\n"
   ],
   "metadata": {
    "collapsed": false,
    "pycharm": {
     "name": "#%%\n",
     "is_executing": false
    }
   }
  },
  {
   "cell_type": "code",
   "execution_count": 63,
   "outputs": [
    {
     "name": "stdout",
     "text": [
      "<class 'pandas.core.series.Series'>\n0         Norway\n1        Denmark\n2        Iceland\n3    Switzerland\n4        Finland\nName: Country, dtype: object\n"
     ],
     "output_type": "stream"
    }
   ],
   "source": [
    "print(type(countries_series))\n",
    "print(countries_series.head(n = 5))\n"
   ],
   "metadata": {
    "collapsed": false,
    "pycharm": {
     "name": "#%%\n",
     "is_executing": false
    }
   }
  },
  {
   "cell_type": "code",
   "execution_count": 64,
   "outputs": [
    {
     "name": "stdout",
     "text": [
      "<class 'pandas.core.frame.DataFrame'>\n       Country  Happiness.Rank\n0       Norway               1\n1      Denmark               2\n2      Iceland               3\n3  Switzerland               4\n4      Finland               5\n"
     ],
     "output_type": "stream"
    }
   ],
   "source": [
    "print(type(countries_with_rank_series))\n",
    "print(countries_with_rank_series.head(n = 5))\n"
   ],
   "metadata": {
    "collapsed": false,
    "pycharm": {
     "name": "#%%\n",
     "is_executing": false
    }
   }
  },
  {
   "cell_type": "code",
   "execution_count": 65,
   "outputs": [
    {
     "name": "stdout",
     "text": [
      "<class 'pandas.core.series.Series'>\nDenmark <class 'str'>\n"
     ],
     "output_type": "stream"
    }
   ],
   "source": [
    "print(type(countries_series))\n",
    "print(countries_series[1], type(countries_series[1]))\n"
   ],
   "metadata": {
    "collapsed": false,
    "pycharm": {
     "name": "#%%\n",
     "is_executing": false
    }
   }
  },
  {
   "cell_type": "code",
   "execution_count": null,
   "outputs": [],
   "source": [
    "\n"
   ],
   "metadata": {
    "collapsed": false,
    "pycharm": {
     "name": "#%%\n"
    }
   }
  }
 ],
 "metadata": {
  "language_info": {
   "codemirror_mode": {
    "name": "ipython",
    "version": 2
   },
   "file_extension": ".py",
   "mimetype": "text/x-python",
   "name": "python",
   "nbconvert_exporter": "python",
   "pygments_lexer": "ipython2",
   "version": "2.7.6"
  },
  "kernelspec": {
   "name": "python3",
   "language": "python",
   "display_name": "Python 3"
  },
  "pycharm": {
   "stem_cell": {
    "cell_type": "raw",
    "source": [],
    "metadata": {
     "collapsed": false
    }
   }
  }
 },
 "nbformat": 4,
 "nbformat_minor": 0
}