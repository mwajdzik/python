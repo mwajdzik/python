{
 "cells": [
  {
   "cell_type": "code",
   "execution_count": 3,
   "metadata": {
    "collapsed": true,
    "pycharm": {
     "is_executing": false,
     "name": "#%%\n"
    }
   },
   "outputs": [],
   "source": [
    "\n",
    "import pandas as pd\n",
    "\n",
    "data = pd.read_csv('2017.csv', skiprows=0)\n"
   ]
  },
  {
   "cell_type": "code",
   "execution_count": 4,
   "outputs": [
    {
     "name": "stdout",
     "text": [
      "value_counts\n"
     ],
     "output_type": "stream"
    },
    {
     "data": {
      "text/plain": "5.074    2\n6.454    2\n7.284    2\n5.838    2\n6.105    1\n4.535    1\n2.693    1\n6.403    1\n5.472    1\n5.181    1\nName: Happiness.Score, dtype: int64"
     },
     "metadata": {},
     "output_type": "execute_result",
     "execution_count": 4
    }
   ],
   "source": [
    "print('value_counts')\n",
    "\n",
    "counts = data['Happiness.Score'].value_counts(dropna=False)\n",
    "counts.head(10)\n"
   ],
   "metadata": {
    "collapsed": false,
    "pycharm": {
     "name": "#%%\n",
     "is_executing": false
    }
   }
  },
  {
   "cell_type": "code",
   "execution_count": 5,
   "outputs": [
    {
     "name": "stdout",
     "text": [
      "sort_values\n"
     ],
     "output_type": "stream"
    },
    {
     "data": {
      "text/plain": "         Country   Freedom\n46    Uzbekistan  0.658249\n0         Norway  0.635423\n128     Cambodia  0.633376\n2        Iceland  0.627163\n1        Denmark  0.626007\n3    Switzerland  0.620071\n4        Finland  0.617951\n7    New Zealand  0.614062\n8         Sweden  0.612924\n6         Canada  0.611101",
      "text/html": "<div>\n<style scoped>\n    .dataframe tbody tr th:only-of-type {\n        vertical-align: middle;\n    }\n\n    .dataframe tbody tr th {\n        vertical-align: top;\n    }\n\n    .dataframe thead th {\n        text-align: right;\n    }\n</style>\n<table border=\"1\" class=\"dataframe\">\n  <thead>\n    <tr style=\"text-align: right;\">\n      <th></th>\n      <th>Country</th>\n      <th>Freedom</th>\n    </tr>\n  </thead>\n  <tbody>\n    <tr>\n      <th>46</th>\n      <td>Uzbekistan</td>\n      <td>0.658249</td>\n    </tr>\n    <tr>\n      <th>0</th>\n      <td>Norway</td>\n      <td>0.635423</td>\n    </tr>\n    <tr>\n      <th>128</th>\n      <td>Cambodia</td>\n      <td>0.633376</td>\n    </tr>\n    <tr>\n      <th>2</th>\n      <td>Iceland</td>\n      <td>0.627163</td>\n    </tr>\n    <tr>\n      <th>1</th>\n      <td>Denmark</td>\n      <td>0.626007</td>\n    </tr>\n    <tr>\n      <th>3</th>\n      <td>Switzerland</td>\n      <td>0.620071</td>\n    </tr>\n    <tr>\n      <th>4</th>\n      <td>Finland</td>\n      <td>0.617951</td>\n    </tr>\n    <tr>\n      <th>7</th>\n      <td>New Zealand</td>\n      <td>0.614062</td>\n    </tr>\n    <tr>\n      <th>8</th>\n      <td>Sweden</td>\n      <td>0.612924</td>\n    </tr>\n    <tr>\n      <th>6</th>\n      <td>Canada</td>\n      <td>0.611101</td>\n    </tr>\n  </tbody>\n</table>\n</div>"
     },
     "metadata": {},
     "output_type": "execute_result",
     "execution_count": 5
    }
   ],
   "source": [
    "print('sort_values')\n",
    "\n",
    "sorted_data = data[['Country', 'Freedom']]\\\n",
    "    .sort_values(by = ['Freedom'], ascending=False)\n",
    "\n",
    "sorted_data.head(10)\n"
   ],
   "metadata": {
    "collapsed": false,
    "pycharm": {
     "name": "#%%\n",
     "is_executing": false
    }
   }
  },
  {
   "cell_type": "code",
   "execution_count": 6,
   "outputs": [
    {
     "name": "stdout",
     "text": [
      "Boolean indexing\n"
     ],
     "output_type": "stream"
    },
    {
     "data": {
      "text/plain": "   Country  Happiness.Rank  Happiness.Score  Whisker.high  Whisker.low  \\\n0   Norway               1            7.537      7.594445     7.479556   \n1  Denmark               2            7.522      7.581728     7.462272   \n2  Iceland               3            7.504      7.622030     7.385970   \n\n   Economy..GDP.per.Capita.    Family  Health..Life.Expectancy.   Freedom  \\\n0                  1.616463  1.533524                  0.796667  0.635423   \n1                  1.482383  1.551122                  0.792566  0.626007   \n2                  1.480633  1.610574                  0.833552  0.627163   \n\n   Generosity  Trust..Government.Corruption.  Dystopia.Residual  \n0    0.362012                       0.315964           2.277027  \n1    0.355280                       0.400770           2.313707  \n2    0.475540                       0.153527           2.322715  ",
      "text/html": "<div>\n<style scoped>\n    .dataframe tbody tr th:only-of-type {\n        vertical-align: middle;\n    }\n\n    .dataframe tbody tr th {\n        vertical-align: top;\n    }\n\n    .dataframe thead th {\n        text-align: right;\n    }\n</style>\n<table border=\"1\" class=\"dataframe\">\n  <thead>\n    <tr style=\"text-align: right;\">\n      <th></th>\n      <th>Country</th>\n      <th>Happiness.Rank</th>\n      <th>Happiness.Score</th>\n      <th>Whisker.high</th>\n      <th>Whisker.low</th>\n      <th>Economy..GDP.per.Capita.</th>\n      <th>Family</th>\n      <th>Health..Life.Expectancy.</th>\n      <th>Freedom</th>\n      <th>Generosity</th>\n      <th>Trust..Government.Corruption.</th>\n      <th>Dystopia.Residual</th>\n    </tr>\n  </thead>\n  <tbody>\n    <tr>\n      <th>0</th>\n      <td>Norway</td>\n      <td>1</td>\n      <td>7.537</td>\n      <td>7.594445</td>\n      <td>7.479556</td>\n      <td>1.616463</td>\n      <td>1.533524</td>\n      <td>0.796667</td>\n      <td>0.635423</td>\n      <td>0.362012</td>\n      <td>0.315964</td>\n      <td>2.277027</td>\n    </tr>\n    <tr>\n      <th>1</th>\n      <td>Denmark</td>\n      <td>2</td>\n      <td>7.522</td>\n      <td>7.581728</td>\n      <td>7.462272</td>\n      <td>1.482383</td>\n      <td>1.551122</td>\n      <td>0.792566</td>\n      <td>0.626007</td>\n      <td>0.355280</td>\n      <td>0.400770</td>\n      <td>2.313707</td>\n    </tr>\n    <tr>\n      <th>2</th>\n      <td>Iceland</td>\n      <td>3</td>\n      <td>7.504</td>\n      <td>7.622030</td>\n      <td>7.385970</td>\n      <td>1.480633</td>\n      <td>1.610574</td>\n      <td>0.833552</td>\n      <td>0.627163</td>\n      <td>0.475540</td>\n      <td>0.153527</td>\n      <td>2.322715</td>\n    </tr>\n  </tbody>\n</table>\n</div>"
     },
     "metadata": {},
     "output_type": "execute_result",
     "execution_count": 6
    }
   ],
   "source": [
    "print('Boolean indexing')\n",
    "\n",
    "data[data['Happiness.Score'] > 7.5]\n",
    "\n"
   ],
   "metadata": {
    "collapsed": false,
    "pycharm": {
     "name": "#%%\n",
     "is_executing": false
    }
   }
  },
  {
   "cell_type": "code",
   "execution_count": 7,
   "outputs": [
    {
     "name": "stdout",
     "text": [
      "String handling\n"
     ],
     "output_type": "stream"
    },
    {
     "data": {
      "text/plain": "        Country  Happiness.Rank  Happiness.Score  Whisker.high  Whisker.low  \\\n2       Iceland               3            7.504      7.622030     7.385970   \n3   Switzerland               4            7.494      7.561772     7.426227   \n4       Finland               5            7.469      7.527542     7.410458   \n5   Netherlands               6            7.377      7.427426     7.326574   \n7   New Zealand               8            7.314      7.379510     7.248490   \n14      Ireland              15            6.977      7.043352     6.910649   \n31     Thailand              32            6.424      6.509117     6.338883   \n45       Poland              46            5.973      6.053908     5.892092   \n\n    Economy..GDP.per.Capita.    Family  Health..Life.Expectancy.   Freedom  \\\n2                   1.480633  1.610574                  0.833552  0.627163   \n3                   1.564980  1.516912                  0.858131  0.620071   \n4                   1.443572  1.540247                  0.809158  0.617951   \n5                   1.503945  1.428939                  0.810696  0.585384   \n7                   1.405706  1.548195                  0.816760  0.614062   \n14                  1.535707  1.558231                  0.809783  0.573110   \n31                  1.127869  1.425792                  0.647239  0.580201   \n45                  1.291788  1.445712                  0.699475  0.520342   \n\n    Generosity  Trust..Government.Corruption.  Dystopia.Residual  \n2     0.475540                       0.153527           2.322715  \n3     0.290549                       0.367007           2.276716  \n4     0.245483                       0.382612           2.430182  \n5     0.470490                       0.282662           2.294804  \n7     0.500005                       0.382817           2.046456  \n14    0.427858                       0.298388           1.773869  \n31    0.572123                       0.031613           2.039508  \n45    0.158466                       0.059308           1.797723  ",
      "text/html": "<div>\n<style scoped>\n    .dataframe tbody tr th:only-of-type {\n        vertical-align: middle;\n    }\n\n    .dataframe tbody tr th {\n        vertical-align: top;\n    }\n\n    .dataframe thead th {\n        text-align: right;\n    }\n</style>\n<table border=\"1\" class=\"dataframe\">\n  <thead>\n    <tr style=\"text-align: right;\">\n      <th></th>\n      <th>Country</th>\n      <th>Happiness.Rank</th>\n      <th>Happiness.Score</th>\n      <th>Whisker.high</th>\n      <th>Whisker.low</th>\n      <th>Economy..GDP.per.Capita.</th>\n      <th>Family</th>\n      <th>Health..Life.Expectancy.</th>\n      <th>Freedom</th>\n      <th>Generosity</th>\n      <th>Trust..Government.Corruption.</th>\n      <th>Dystopia.Residual</th>\n    </tr>\n  </thead>\n  <tbody>\n    <tr>\n      <th>2</th>\n      <td>Iceland</td>\n      <td>3</td>\n      <td>7.504</td>\n      <td>7.622030</td>\n      <td>7.385970</td>\n      <td>1.480633</td>\n      <td>1.610574</td>\n      <td>0.833552</td>\n      <td>0.627163</td>\n      <td>0.475540</td>\n      <td>0.153527</td>\n      <td>2.322715</td>\n    </tr>\n    <tr>\n      <th>3</th>\n      <td>Switzerland</td>\n      <td>4</td>\n      <td>7.494</td>\n      <td>7.561772</td>\n      <td>7.426227</td>\n      <td>1.564980</td>\n      <td>1.516912</td>\n      <td>0.858131</td>\n      <td>0.620071</td>\n      <td>0.290549</td>\n      <td>0.367007</td>\n      <td>2.276716</td>\n    </tr>\n    <tr>\n      <th>4</th>\n      <td>Finland</td>\n      <td>5</td>\n      <td>7.469</td>\n      <td>7.527542</td>\n      <td>7.410458</td>\n      <td>1.443572</td>\n      <td>1.540247</td>\n      <td>0.809158</td>\n      <td>0.617951</td>\n      <td>0.245483</td>\n      <td>0.382612</td>\n      <td>2.430182</td>\n    </tr>\n    <tr>\n      <th>5</th>\n      <td>Netherlands</td>\n      <td>6</td>\n      <td>7.377</td>\n      <td>7.427426</td>\n      <td>7.326574</td>\n      <td>1.503945</td>\n      <td>1.428939</td>\n      <td>0.810696</td>\n      <td>0.585384</td>\n      <td>0.470490</td>\n      <td>0.282662</td>\n      <td>2.294804</td>\n    </tr>\n    <tr>\n      <th>7</th>\n      <td>New Zealand</td>\n      <td>8</td>\n      <td>7.314</td>\n      <td>7.379510</td>\n      <td>7.248490</td>\n      <td>1.405706</td>\n      <td>1.548195</td>\n      <td>0.816760</td>\n      <td>0.614062</td>\n      <td>0.500005</td>\n      <td>0.382817</td>\n      <td>2.046456</td>\n    </tr>\n    <tr>\n      <th>14</th>\n      <td>Ireland</td>\n      <td>15</td>\n      <td>6.977</td>\n      <td>7.043352</td>\n      <td>6.910649</td>\n      <td>1.535707</td>\n      <td>1.558231</td>\n      <td>0.809783</td>\n      <td>0.573110</td>\n      <td>0.427858</td>\n      <td>0.298388</td>\n      <td>1.773869</td>\n    </tr>\n    <tr>\n      <th>31</th>\n      <td>Thailand</td>\n      <td>32</td>\n      <td>6.424</td>\n      <td>6.509117</td>\n      <td>6.338883</td>\n      <td>1.127869</td>\n      <td>1.425792</td>\n      <td>0.647239</td>\n      <td>0.580201</td>\n      <td>0.572123</td>\n      <td>0.031613</td>\n      <td>2.039508</td>\n    </tr>\n    <tr>\n      <th>45</th>\n      <td>Poland</td>\n      <td>46</td>\n      <td>5.973</td>\n      <td>6.053908</td>\n      <td>5.892092</td>\n      <td>1.291788</td>\n      <td>1.445712</td>\n      <td>0.699475</td>\n      <td>0.520342</td>\n      <td>0.158466</td>\n      <td>0.059308</td>\n      <td>1.797723</td>\n    </tr>\n  </tbody>\n</table>\n</div>"
     },
     "metadata": {},
     "output_type": "execute_result",
     "execution_count": 7
    }
   ],
   "source": [
    "print('String handling')\n",
    "\n",
    "data[data['Country'].str.contains('land')]\n"
   ],
   "metadata": {
    "collapsed": false,
    "pycharm": {
     "name": "#%%\n",
     "is_executing": false
    }
   }
  },
  {
   "cell_type": "code",
   "execution_count": 8,
   "outputs": [
    {
     "name": "stdout",
     "text": [
      "Happiness in Poland: 46\n"
     ],
     "output_type": "stream"
    }
   ],
   "source": [
    "happiness_poland = data[data['Country'] == 'Poland']['Happiness.Rank']\n",
    "print('Happiness in Poland:', happiness_poland.values[0])\n"
   ],
   "metadata": {
    "collapsed": false,
    "pycharm": {
     "name": "#%%\n",
     "is_executing": false
    }
   }
  },
  {
   "cell_type": "code",
   "execution_count": 9,
   "outputs": [
    {
     "data": {
      "text/plain": "   Country  Happiness.Rank  Happiness.Score  Whisker.high  Whisker.low  \\\n2  Iceland               3            7.504      7.622030     7.385970   \n1  Denmark               2            7.522      7.581728     7.462272   \n0   Norway               1            7.537      7.594445     7.479556   \n\n   Economy..GDP.per.Capita.    Family  Health..Life.Expectancy.   Freedom  \\\n2                  1.480633  1.610574                  0.833552  0.627163   \n1                  1.482383  1.551122                  0.792566  0.626007   \n0                  1.616463  1.533524                  0.796667  0.635423   \n\n   Generosity  Trust..Government.Corruption.  Dystopia.Residual  \n2    0.475540                       0.153527           2.322715  \n1    0.355280                       0.400770           2.313707  \n0    0.362012                       0.315964           2.277027  ",
      "text/html": "<div>\n<style scoped>\n    .dataframe tbody tr th:only-of-type {\n        vertical-align: middle;\n    }\n\n    .dataframe tbody tr th {\n        vertical-align: top;\n    }\n\n    .dataframe thead th {\n        text-align: right;\n    }\n</style>\n<table border=\"1\" class=\"dataframe\">\n  <thead>\n    <tr style=\"text-align: right;\">\n      <th></th>\n      <th>Country</th>\n      <th>Happiness.Rank</th>\n      <th>Happiness.Score</th>\n      <th>Whisker.high</th>\n      <th>Whisker.low</th>\n      <th>Economy..GDP.per.Capita.</th>\n      <th>Family</th>\n      <th>Health..Life.Expectancy.</th>\n      <th>Freedom</th>\n      <th>Generosity</th>\n      <th>Trust..Government.Corruption.</th>\n      <th>Dystopia.Residual</th>\n    </tr>\n  </thead>\n  <tbody>\n    <tr>\n      <th>2</th>\n      <td>Iceland</td>\n      <td>3</td>\n      <td>7.504</td>\n      <td>7.622030</td>\n      <td>7.385970</td>\n      <td>1.480633</td>\n      <td>1.610574</td>\n      <td>0.833552</td>\n      <td>0.627163</td>\n      <td>0.475540</td>\n      <td>0.153527</td>\n      <td>2.322715</td>\n    </tr>\n    <tr>\n      <th>1</th>\n      <td>Denmark</td>\n      <td>2</td>\n      <td>7.522</td>\n      <td>7.581728</td>\n      <td>7.462272</td>\n      <td>1.482383</td>\n      <td>1.551122</td>\n      <td>0.792566</td>\n      <td>0.626007</td>\n      <td>0.355280</td>\n      <td>0.400770</td>\n      <td>2.313707</td>\n    </tr>\n    <tr>\n      <th>0</th>\n      <td>Norway</td>\n      <td>1</td>\n      <td>7.537</td>\n      <td>7.594445</td>\n      <td>7.479556</td>\n      <td>1.616463</td>\n      <td>1.533524</td>\n      <td>0.796667</td>\n      <td>0.635423</td>\n      <td>0.362012</td>\n      <td>0.315964</td>\n      <td>2.277027</td>\n    </tr>\n  </tbody>\n</table>\n</div>"
     },
     "metadata": {},
     "output_type": "execute_result",
     "execution_count": 9
    }
   ],
   "source": [
    "data[(data['Happiness.Score'] > 7.5) & (data['Economy..GDP.per.Capita.'] > 1.4)]\\\n",
    "    .sort_values(by = ['Happiness.Rank'], ascending=False)\n"
   ],
   "metadata": {
    "collapsed": false,
    "pycharm": {
     "name": "#%%\n",
     "is_executing": false
    }
   }
  }
 ],
 "metadata": {
  "language_info": {
   "codemirror_mode": {
    "name": "ipython",
    "version": 2
   },
   "file_extension": ".py",
   "mimetype": "text/x-python",
   "name": "python",
   "nbconvert_exporter": "python",
   "pygments_lexer": "ipython2",
   "version": "2.7.6"
  },
  "kernelspec": {
   "name": "python3",
   "language": "python",
   "display_name": "Python 3"
  },
  "pycharm": {
   "stem_cell": {
    "cell_type": "raw",
    "source": [],
    "metadata": {
     "collapsed": false
    }
   }
  }
 },
 "nbformat": 4,
 "nbformat_minor": 0
}