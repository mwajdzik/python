{
 "cells": [
  {
   "cell_type": "code",
   "execution_count": 2,
   "metadata": {
    "collapsed": true,
    "pycharm": {
     "is_executing": false
    }
   },
   "outputs": [
    {
     "name": "stdout",
     "text": [
      "Type:  <class 'pandas.core.frame.DataFrame'>\nShape: (155, 12)\n"
     ],
     "output_type": "stream"
    }
   ],
   "source": [
    "\n",
    "import pandas as pd\n",
    "\n",
    "data = pd.read_csv('2017.csv', skiprows=0)\n",
    "\n",
    "print('Type: ', type(data))\n",
    "print('Shape:', data.shape)\n"
   ]
  },
  {
   "cell_type": "code",
   "execution_count": 1,
   "outputs": [
    {
     "traceback": [
      "\u001b[0;31m---------------------------------------------------------------------------\u001b[0m",
      "\u001b[0;31mNameError\u001b[0m                                 Traceback (most recent call last)",
      "\u001b[0;32m<ipython-input-1-7e0679b83dc6>\u001b[0m in \u001b[0;36m<module>\u001b[0;34m\u001b[0m\n\u001b[0;32m----> 1\u001b[0;31m \u001b[0mdata\u001b[0m\u001b[0;34m.\u001b[0m\u001b[0mhead\u001b[0m\u001b[0;34m(\u001b[0m\u001b[0;34m)\u001b[0m\u001b[0;34m\u001b[0m\u001b[0;34m\u001b[0m\u001b[0m\n\u001b[0m\u001b[1;32m      2\u001b[0m \u001b[0;34m\u001b[0m\u001b[0m\n",
      "\u001b[0;31mNameError\u001b[0m: name 'data' is not defined"
     ],
     "ename": "NameError",
     "evalue": "name 'data' is not defined",
     "output_type": "error"
    }
   ],
   "source": [
    "data.head()\n"
   ],
   "metadata": {
    "collapsed": false,
    "pycharm": {
     "name": "#%%\n",
     "is_executing": false
    }
   }
  },
  {
   "cell_type": "code",
   "execution_count": 67,
   "outputs": [
    {
     "data": {
      "text/plain": "                      Country  Happiness.Rank  Happiness.Score  Whisker.high  \\\n150                    Rwanda             151            3.471      3.543030   \n151                     Syria             152            3.462      3.663669   \n152                  Tanzania             153            3.349      3.461430   \n153                   Burundi             154            2.905      3.074690   \n154  Central African Republic             155            2.693      2.864884   \n\n     Whisker.low  Economy..GDP.per.Capita.    Family  \\\n150     3.398970                  0.368746  0.945707   \n151     3.260331                  0.777153  0.396103   \n152     3.236570                  0.511136  1.041990   \n153     2.735310                  0.091623  0.629794   \n154     2.521116                  0.000000  0.000000   \n\n     Health..Life.Expectancy.   Freedom  Generosity  \\\n150                  0.326425  0.581844    0.252756   \n151                  0.500533  0.081539    0.493664   \n152                  0.364509  0.390018    0.354256   \n153                  0.151611  0.059901    0.204435   \n154                  0.018773  0.270842    0.280876   \n\n     Trust..Government.Corruption.  Dystopia.Residual  \n150                       0.455220           0.540061  \n151                       0.151347           1.061574  \n152                       0.066035           0.621130  \n153                       0.084148           1.683024  \n154                       0.056565           2.066005  ",
      "text/html": "<div>\n<style scoped>\n    .dataframe tbody tr th:only-of-type {\n        vertical-align: middle;\n    }\n\n    .dataframe tbody tr th {\n        vertical-align: top;\n    }\n\n    .dataframe thead th {\n        text-align: right;\n    }\n</style>\n<table border=\"1\" class=\"dataframe\">\n  <thead>\n    <tr style=\"text-align: right;\">\n      <th></th>\n      <th>Country</th>\n      <th>Happiness.Rank</th>\n      <th>Happiness.Score</th>\n      <th>Whisker.high</th>\n      <th>Whisker.low</th>\n      <th>Economy..GDP.per.Capita.</th>\n      <th>Family</th>\n      <th>Health..Life.Expectancy.</th>\n      <th>Freedom</th>\n      <th>Generosity</th>\n      <th>Trust..Government.Corruption.</th>\n      <th>Dystopia.Residual</th>\n    </tr>\n  </thead>\n  <tbody>\n    <tr>\n      <th>150</th>\n      <td>Rwanda</td>\n      <td>151</td>\n      <td>3.471</td>\n      <td>3.543030</td>\n      <td>3.398970</td>\n      <td>0.368746</td>\n      <td>0.945707</td>\n      <td>0.326425</td>\n      <td>0.581844</td>\n      <td>0.252756</td>\n      <td>0.455220</td>\n      <td>0.540061</td>\n    </tr>\n    <tr>\n      <th>151</th>\n      <td>Syria</td>\n      <td>152</td>\n      <td>3.462</td>\n      <td>3.663669</td>\n      <td>3.260331</td>\n      <td>0.777153</td>\n      <td>0.396103</td>\n      <td>0.500533</td>\n      <td>0.081539</td>\n      <td>0.493664</td>\n      <td>0.151347</td>\n      <td>1.061574</td>\n    </tr>\n    <tr>\n      <th>152</th>\n      <td>Tanzania</td>\n      <td>153</td>\n      <td>3.349</td>\n      <td>3.461430</td>\n      <td>3.236570</td>\n      <td>0.511136</td>\n      <td>1.041990</td>\n      <td>0.364509</td>\n      <td>0.390018</td>\n      <td>0.354256</td>\n      <td>0.066035</td>\n      <td>0.621130</td>\n    </tr>\n    <tr>\n      <th>153</th>\n      <td>Burundi</td>\n      <td>154</td>\n      <td>2.905</td>\n      <td>3.074690</td>\n      <td>2.735310</td>\n      <td>0.091623</td>\n      <td>0.629794</td>\n      <td>0.151611</td>\n      <td>0.059901</td>\n      <td>0.204435</td>\n      <td>0.084148</td>\n      <td>1.683024</td>\n    </tr>\n    <tr>\n      <th>154</th>\n      <td>Central African Republic</td>\n      <td>155</td>\n      <td>2.693</td>\n      <td>2.864884</td>\n      <td>2.521116</td>\n      <td>0.000000</td>\n      <td>0.000000</td>\n      <td>0.018773</td>\n      <td>0.270842</td>\n      <td>0.280876</td>\n      <td>0.056565</td>\n      <td>2.066005</td>\n    </tr>\n  </tbody>\n</table>\n</div>"
     },
     "metadata": {},
     "output_type": "execute_result",
     "execution_count": 67
    }
   ],
   "source": [
    "data.tail()\n"
   ],
   "metadata": {
    "collapsed": false,
    "pycharm": {
     "name": "#%%\n",
     "is_executing": false
    }
   }
  },
  {
   "cell_type": "code",
   "execution_count": 68,
   "outputs": [
    {
     "name": "stdout",
     "text": [
      "<class 'pandas.core.frame.DataFrame'>\nRangeIndex: 155 entries, 0 to 154\nData columns (total 12 columns):\nCountry                          155 non-null object\nHappiness.Rank                   155 non-null int64\nHappiness.Score                  155 non-null float64\nWhisker.high                     155 non-null float64\nWhisker.low                      155 non-null float64\nEconomy..GDP.per.Capita.         155 non-null float64\nFamily                           155 non-null float64\nHealth..Life.Expectancy.         155 non-null float64\nFreedom                          155 non-null float64\nGenerosity                       155 non-null float64\nTrust..Government.Corruption.    155 non-null float64\nDystopia.Residual                155 non-null float64\ndtypes: float64(10), int64(1), object(1)\nmemory usage: 14.6+ KB\n"
     ],
     "output_type": "stream"
    }
   ],
   "source": [
    "data.info()\n"
   ],
   "metadata": {
    "collapsed": false,
    "pycharm": {
     "name": "#%%\n",
     "is_executing": false
    }
   }
  },
  {
   "cell_type": "code",
   "execution_count": 69,
   "outputs": [
    {
     "data": {
      "text/plain": "       Happiness.Rank  Happiness.Score  Whisker.high  Whisker.low  \\\ncount      155.000000       155.000000    155.000000   155.000000   \nmean        78.000000         5.354019      5.452326     5.255713   \nstd         44.888751         1.131230      1.118542     1.145030   \nmin          1.000000         2.693000      2.864884     2.521116   \n25%         39.500000         4.505500      4.608172     4.374955   \n50%         78.000000         5.279000      5.370032     5.193152   \n75%        116.500000         6.101500      6.194600     6.006527   \nmax        155.000000         7.537000      7.622030     7.479556   \n\n       Economy..GDP.per.Capita.      Family  Health..Life.Expectancy.  \\\ncount                155.000000  155.000000                155.000000   \nmean                   0.984718    1.188898                  0.551341   \nstd                    0.420793    0.287263                  0.237073   \nmin                    0.000000    0.000000                  0.000000   \n25%                    0.663371    1.042635                  0.369866   \n50%                    1.064578    1.253918                  0.606042   \n75%                    1.318027    1.414316                  0.723008   \nmax                    1.870766    1.610574                  0.949492   \n\n          Freedom  Generosity  Trust..Government.Corruption.  \\\ncount  155.000000  155.000000                     155.000000   \nmean     0.408786    0.246883                       0.123120   \nstd      0.149997    0.134780                       0.101661   \nmin      0.000000    0.000000                       0.000000   \n25%      0.303677    0.154106                       0.057271   \n50%      0.437454    0.231538                       0.089848   \n75%      0.516561    0.323762                       0.153296   \nmax      0.658249    0.838075                       0.464308   \n\n       Dystopia.Residual  \ncount         155.000000  \nmean            1.850238  \nstd             0.500028  \nmin             0.377914  \n25%             1.591291  \n50%             1.832910  \n75%             2.144654  \nmax             3.117485  ",
      "text/html": "<div>\n<style scoped>\n    .dataframe tbody tr th:only-of-type {\n        vertical-align: middle;\n    }\n\n    .dataframe tbody tr th {\n        vertical-align: top;\n    }\n\n    .dataframe thead th {\n        text-align: right;\n    }\n</style>\n<table border=\"1\" class=\"dataframe\">\n  <thead>\n    <tr style=\"text-align: right;\">\n      <th></th>\n      <th>Happiness.Rank</th>\n      <th>Happiness.Score</th>\n      <th>Whisker.high</th>\n      <th>Whisker.low</th>\n      <th>Economy..GDP.per.Capita.</th>\n      <th>Family</th>\n      <th>Health..Life.Expectancy.</th>\n      <th>Freedom</th>\n      <th>Generosity</th>\n      <th>Trust..Government.Corruption.</th>\n      <th>Dystopia.Residual</th>\n    </tr>\n  </thead>\n  <tbody>\n    <tr>\n      <th>count</th>\n      <td>155.000000</td>\n      <td>155.000000</td>\n      <td>155.000000</td>\n      <td>155.000000</td>\n      <td>155.000000</td>\n      <td>155.000000</td>\n      <td>155.000000</td>\n      <td>155.000000</td>\n      <td>155.000000</td>\n      <td>155.000000</td>\n      <td>155.000000</td>\n    </tr>\n    <tr>\n      <th>mean</th>\n      <td>78.000000</td>\n      <td>5.354019</td>\n      <td>5.452326</td>\n      <td>5.255713</td>\n      <td>0.984718</td>\n      <td>1.188898</td>\n      <td>0.551341</td>\n      <td>0.408786</td>\n      <td>0.246883</td>\n      <td>0.123120</td>\n      <td>1.850238</td>\n    </tr>\n    <tr>\n      <th>std</th>\n      <td>44.888751</td>\n      <td>1.131230</td>\n      <td>1.118542</td>\n      <td>1.145030</td>\n      <td>0.420793</td>\n      <td>0.287263</td>\n      <td>0.237073</td>\n      <td>0.149997</td>\n      <td>0.134780</td>\n      <td>0.101661</td>\n      <td>0.500028</td>\n    </tr>\n    <tr>\n      <th>min</th>\n      <td>1.000000</td>\n      <td>2.693000</td>\n      <td>2.864884</td>\n      <td>2.521116</td>\n      <td>0.000000</td>\n      <td>0.000000</td>\n      <td>0.000000</td>\n      <td>0.000000</td>\n      <td>0.000000</td>\n      <td>0.000000</td>\n      <td>0.377914</td>\n    </tr>\n    <tr>\n      <th>25%</th>\n      <td>39.500000</td>\n      <td>4.505500</td>\n      <td>4.608172</td>\n      <td>4.374955</td>\n      <td>0.663371</td>\n      <td>1.042635</td>\n      <td>0.369866</td>\n      <td>0.303677</td>\n      <td>0.154106</td>\n      <td>0.057271</td>\n      <td>1.591291</td>\n    </tr>\n    <tr>\n      <th>50%</th>\n      <td>78.000000</td>\n      <td>5.279000</td>\n      <td>5.370032</td>\n      <td>5.193152</td>\n      <td>1.064578</td>\n      <td>1.253918</td>\n      <td>0.606042</td>\n      <td>0.437454</td>\n      <td>0.231538</td>\n      <td>0.089848</td>\n      <td>1.832910</td>\n    </tr>\n    <tr>\n      <th>75%</th>\n      <td>116.500000</td>\n      <td>6.101500</td>\n      <td>6.194600</td>\n      <td>6.006527</td>\n      <td>1.318027</td>\n      <td>1.414316</td>\n      <td>0.723008</td>\n      <td>0.516561</td>\n      <td>0.323762</td>\n      <td>0.153296</td>\n      <td>2.144654</td>\n    </tr>\n    <tr>\n      <th>max</th>\n      <td>155.000000</td>\n      <td>7.537000</td>\n      <td>7.622030</td>\n      <td>7.479556</td>\n      <td>1.870766</td>\n      <td>1.610574</td>\n      <td>0.949492</td>\n      <td>0.658249</td>\n      <td>0.838075</td>\n      <td>0.464308</td>\n      <td>3.117485</td>\n    </tr>\n  </tbody>\n</table>\n</div>"
     },
     "metadata": {},
     "output_type": "execute_result",
     "execution_count": 69
    }
   ],
   "source": [
    "data.describe()\n"
   ],
   "metadata": {
    "collapsed": false,
    "pycharm": {
     "name": "#%%\n",
     "is_executing": false
    }
   }
  },
  {
   "cell_type": "code",
   "execution_count": 62,
   "outputs": [],
   "source": [
    "countries_series = data['Country']\n",
    "countries_with_rank_series = data[['Country', 'Happiness.Rank']]\n"
   ],
   "metadata": {
    "collapsed": false,
    "pycharm": {
     "name": "#%%\n",
     "is_executing": false
    }
   }
  },
  {
   "cell_type": "code",
   "execution_count": 63,
   "outputs": [
    {
     "name": "stdout",
     "text": [
      "<class 'pandas.core.series.Series'>\n0         Norway\n1        Denmark\n2        Iceland\n3    Switzerland\n4        Finland\nName: Country, dtype: object\n"
     ],
     "output_type": "stream"
    }
   ],
   "source": [
    "print(type(countries_series))\n",
    "print(countries_series.head(n = 5))\n"
   ],
   "metadata": {
    "collapsed": false,
    "pycharm": {
     "name": "#%%\n",
     "is_executing": false
    }
   }
  },
  {
   "cell_type": "code",
   "execution_count": 64,
   "outputs": [
    {
     "name": "stdout",
     "text": [
      "<class 'pandas.core.frame.DataFrame'>\n       Country  Happiness.Rank\n0       Norway               1\n1      Denmark               2\n2      Iceland               3\n3  Switzerland               4\n4      Finland               5\n"
     ],
     "output_type": "stream"
    }
   ],
   "source": [
    "print(type(countries_with_rank_series))\n",
    "print(countries_with_rank_series.head(n = 5))\n"
   ],
   "metadata": {
    "collapsed": false,
    "pycharm": {
     "name": "#%%\n",
     "is_executing": false
    }
   }
  },
  {
   "cell_type": "code",
   "execution_count": 65,
   "outputs": [
    {
     "name": "stdout",
     "text": [
      "<class 'pandas.core.series.Series'>\nDenmark <class 'str'>\n"
     ],
     "output_type": "stream"
    }
   ],
   "source": [
    "print(type(countries_series))\n",
    "print(countries_series[1], type(countries_series[1]))\n"
   ],
   "metadata": {
    "collapsed": false,
    "pycharm": {
     "name": "#%%\n",
     "is_executing": false
    }
   }
  },
  {
   "cell_type": "code",
   "execution_count": 71,
   "outputs": [
    {
     "name": "stdout",
     "text": [
      "<class 'pandas.core.series.Series'> Happiness.Score     0\nFreedom            46\ndtype: int64\n<class 'pandas.core.series.Series'> Happiness.Score    154\nFreedom            139\ndtype: int64\n"
     ],
     "output_type": "stream"
    }
   ],
   "source": [
    "y = data[['Happiness.Score', 'Freedom']]\n",
    "print(type(y.idxmax()), y.idxmax())\n",
    "print(type(y.idxmin()), y.idxmin())\n"
   ],
   "metadata": {
    "collapsed": false,
    "pycharm": {
     "name": "#%%\n",
     "is_executing": false
    }
   }
  }
 ],
 "metadata": {
  "language_info": {
   "codemirror_mode": {
    "name": "ipython",
    "version": 2
   },
   "file_extension": ".py",
   "mimetype": "text/x-python",
   "name": "python",
   "nbconvert_exporter": "python",
   "pygments_lexer": "ipython2",
   "version": "2.7.6"
  },
  "kernelspec": {
   "name": "python3",
   "language": "python",
   "display_name": "Python 3"
  },
  "pycharm": {
   "stem_cell": {
    "cell_type": "raw",
    "source": [],
    "metadata": {
     "collapsed": false
    }
   }
  }
 },
 "nbformat": 4,
 "nbformat_minor": 0
}